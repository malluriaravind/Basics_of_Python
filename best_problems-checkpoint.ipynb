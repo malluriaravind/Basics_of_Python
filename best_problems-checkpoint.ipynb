{
 "cells": [
  {
   "cell_type": "code",
   "execution_count": 3,
   "metadata": {},
   "outputs": [
    {
     "name": "stdout",
     "output_type": "stream",
     "text": [
      "abba\n",
      "palindrome\n"
     ]
    }
   ],
   "source": [
    "#python program for palindrome or not\n",
    "def palindrome(s):\n",
    "    s1=s[::-1]\n",
    "    if(s==s1):\n",
    "        print(\"palindrome\")\n",
    "    else:\n",
    "        print(\"not palindrome\")\n",
    "if __name__==\"__main__\":\n",
    "    s=input()\n",
    "    palindrome(s)"
   ]
  },
  {
   "cell_type": "code",
   "execution_count": 8,
   "metadata": {},
   "outputs": [
    {
     "name": "stdout",
     "output_type": "stream",
     "text": [
      "8\n",
      "0\n",
      "1\n",
      "1\n",
      "2\n",
      "3\n",
      "5\n",
      "8\n",
      "13\n"
     ]
    }
   ],
   "source": [
    "#python program for fibanocci numbers\n",
    "def fibanocci(num,a,b):\n",
    "    while num-2:\n",
    "        c=a+b\n",
    "        a=b\n",
    "        b=c\n",
    "        print(c)\n",
    "        num=num-1\n",
    "if __name__==\"__main__\":\n",
    "    num=int(input())\n",
    "    a=int(input())\n",
    "    b=int(input())\n",
    "    fibanocci(num,a,b)"
   ]
  },
  {
   "cell_type": "code",
   "execution_count": 9,
   "metadata": {},
   "outputs": [
    {
     "name": "stdout",
     "output_type": "stream",
     "text": [
      "5\n",
      "prime\n"
     ]
    }
   ],
   "source": [
    "#python program to find prime number or not\n",
    "def prime(num):\n",
    "    for i in range(2,num):\n",
    "        if num%i==0:\n",
    "            print(\"not prime\")\n",
    "            break\n",
    "        else:\n",
    "            print(\"prime\")\n",
    "            break\n",
    "if __name__==\"__main__\":\n",
    "    num=int(input())\n",
    "    prime(num)"
   ]
  },
  {
   "cell_type": "code",
   "execution_count": 10,
   "metadata": {},
   "outputs": [
    {
     "name": "stdout",
     "output_type": "stream",
     "text": [
      "153\n",
      "armstrong no\n"
     ]
    }
   ],
   "source": [
    "#python program for armstrong no or not\n",
    "def armstrong(num):\n",
    "    temp=num\n",
    "    result=0\n",
    "    while temp>0:\n",
    "        c=temp%10\n",
    "        result+=c**3\n",
    "        temp=temp//10\n",
    "    if(num==result):\n",
    "        print(\"armstrong no\")\n",
    "    else:\n",
    "        print(\"not armstrong no\")\n",
    "if __name__==\"__main__\":\n",
    "    num=int(input())\n",
    "    armstrong(num)"
   ]
  },
  {
   "cell_type": "code",
   "execution_count": 12,
   "metadata": {},
   "outputs": [
    {
     "name": "stdout",
     "output_type": "stream",
     "text": [
      "5\n",
      "120\n"
     ]
    }
   ],
   "source": [
    "#python program for find factorial of given number\n",
    "def factorial(num):\n",
    "    if num==1:\n",
    "        return 1\n",
    "    else:\n",
    "        return num*factorial(num-1)\n",
    "if __name__==\"__main__\":\n",
    "    num=int(input())\n",
    "    print(factorial(num))"
   ]
  },
  {
   "cell_type": "code",
   "execution_count": 20,
   "metadata": {},
   "outputs": [
    {
     "name": "stdout",
     "output_type": "stream",
     "text": [
      "6\n",
      "perfect number\n"
     ]
    }
   ],
   "source": [
    "#python program for perfect number\n",
    "def perfect(num):\n",
    "    s=0\n",
    "    for i in range(1,num):\n",
    "        if num%i==0:\n",
    "            s+=i\n",
    "    if(s==num):\n",
    "        print(\"perfect number\")\n",
    "    else:\n",
    "        print(\"not a perfect number\")\n",
    "if __name__==\"__main__\":\n",
    "    num=int(input())\n",
    "    perfect(num)"
   ]
  },
  {
   "cell_type": "code",
   "execution_count": 21,
   "metadata": {},
   "outputs": [
    {
     "name": "stdout",
     "output_type": "stream",
     "text": [
      "5\n",
      "      * \n",
      "     * * \n",
      "    * * * \n",
      "   * * * * \n",
      "  * * * * * \n"
     ]
    }
   ],
   "source": [
    "#python program to print a pyramid\n",
    "def pyramid(num):\n",
    "    for i in range(0,num):\n",
    "        print(\" \"*(num-i),end=\" \")\n",
    "        for j in range(0,i+1):\n",
    "            print(\"*\",end=\" \")\n",
    "        print()\n",
    "if __name__==\"__main__\":\n",
    "    num=int(input())\n",
    "    pyramid(num)"
   ]
  },
  {
   "cell_type": "code",
   "execution_count": 22,
   "metadata": {},
   "outputs": [
    {
     "name": "stdout",
     "output_type": "stream",
     "text": [
      "6\n",
      "*\n",
      "**\n",
      "***\n",
      "****\n",
      "*****\n",
      "******\n"
     ]
    }
   ],
   "source": [
    "#python program to print rightangle traingle\n",
    "def rightangle(num):\n",
    "    for i in range(0,num):\n",
    "        for j in range(0,i+1):\n",
    "            print(\"*\",end=\"\")\n",
    "        print()\n",
    "if __name__==\"__main__\":\n",
    "    num=int(input())\n",
    "    rightangle(num)"
   ]
  },
  {
   "cell_type": "code",
   "execution_count": 1,
   "metadata": {},
   "outputs": [
    {
     "name": "stdout",
     "output_type": "stream",
     "text": [
      "4 5 6 7 8\n",
      "4 5 6\n",
      "[4, 5, 6]\n"
     ]
    }
   ],
   "source": [
    "#python program for intersection of two arrays\n",
    "def intersection(s1,s2):\n",
    "    s1.sort()\n",
    "    s2.sort()\n",
    "    i=0\n",
    "    j=0\n",
    "    result=[]\n",
    "    while i<len(s1) and j<len(s2):\n",
    "        if(s1[i]==s2[j]):\n",
    "            result.append(s1[i])\n",
    "            i+=1\n",
    "            j+=1\n",
    "        elif(s1[i]<s2[j]):\n",
    "            i+=1\n",
    "        else:\n",
    "            j+=1\n",
    "    return result\n",
    "if __name__==\"__main__\":\n",
    "    s1=list(map(int,input().split()))\n",
    "    s2=list(map(int,input().split()))\n",
    "    print(intersection(s1,s2))"
   ]
  },
  {
   "cell_type": "code",
   "execution_count": 3,
   "metadata": {},
   "outputs": [
    {
     "name": "stdout",
     "output_type": "stream",
     "text": [
      "4 5 6 7 8\n",
      "5 6\n",
      "{5, 6}\n"
     ]
    }
   ],
   "source": [
    "#python program for intersection of two arrays\n",
    "def intersection(s1,s2):\n",
    "    s1=set(s1)\n",
    "    s2=set(s2)\n",
    "    n=s1.intersection(s2)\n",
    "    return n\n",
    "if __name__==\"__main__\":\n",
    "    s1=list(map(int,input().split()))\n",
    "    s2=list(map(int,input().split()))\n",
    "    print(intersection(s1,s2))"
   ]
  },
  {
   "cell_type": "code",
   "execution_count": 5,
   "metadata": {},
   "outputs": [
    {
     "name": "stdout",
     "output_type": "stream",
     "text": [
      "aravind\n",
      "aravinda\n",
      "not anagrams\n"
     ]
    }
   ],
   "source": [
    "#python program for two strings are angrams or not\n",
    "def anagrams(s1,s2):\n",
    "    if(sorted(s1)==sorted(s2)):\n",
    "        print(\"anagrams\")\n",
    "    else:\n",
    "        print(\"not anagrams\")\n",
    "if __name__==\"__main__\":\n",
    "    s1=input()\n",
    "    s2=input()\n",
    "    anagrams(s1,s2)"
   ]
  },
  {
   "cell_type": "code",
   "execution_count": 8,
   "metadata": {},
   "outputs": [
    {
     "name": "stdout",
     "output_type": "stream",
     "text": [
      "4 5 6 7 8 9\n",
      "9\n",
      "(5, 4)\n"
     ]
    }
   ],
   "source": [
    "#python program for two sum\n",
    "def two(n,k):\n",
    "    for i in range(len(n)):\n",
    "        for j in range(0,i+1):\n",
    "            if(n[i]+n[j]==k):\n",
    "                return n[i],n[j]\n",
    "if __name__==\"__main__\":\n",
    "    n=list(map(int,input().split()))\n",
    "    k=int(input())\n",
    "    print(two(n,k))"
   ]
  },
  {
   "cell_type": "code",
   "execution_count": 10,
   "metadata": {},
   "outputs": [
    {
     "name": "stdout",
     "output_type": "stream",
     "text": [
      "2 4 6 7 8 -12 5 6\n",
      "38\n"
     ]
    }
   ],
   "source": [
    "#python program for maximumsbarray\n",
    "def maxsub(num):\n",
    "    total_sum=max_sum=num[0]\n",
    "    for i in (num[1:]):\n",
    "        total_sum=max(total_sum,total_sum+i)\n",
    "        max_sum=max(total_sum,max_sum)\n",
    "    return max_sum\n",
    "if __name__==\"__main__\":\n",
    "    num=list(map(int,input().split()))\n",
    "    print(maxsub(num))"
   ]
  },
  {
   "cell_type": "code",
   "execution_count": 11,
   "metadata": {},
   "outputs": [
    {
     "name": "stdout",
     "output_type": "stream",
     "text": [
      "4 5 6 7 -2 5 6 -7\n",
      "-5\n"
     ]
    }
   ],
   "source": [
    "#python program for minimum subarray\n",
    "def minsub(num):\n",
    "    total_sum=min_sum=num[0]\n",
    "    for i in (num[1:]):\n",
    "        total_sum=min(total_sum,total_sum+i)\n",
    "        min_sum=min(total_sum,min_sum)\n",
    "    return min_sum\n",
    "if __name__==\"__main__\":\n",
    "    num=list(map(int,input().split()))\n",
    "    print(minsub(num))"
   ]
  },
  {
   "cell_type": "code",
   "execution_count": 14,
   "metadata": {},
   "outputs": [
    {
     "name": "stdout",
     "output_type": "stream",
     "text": [
      "aravind\n",
      "{'a': 2, 'r': 1, 'v': 1, 'i': 1, 'n': 1, 'd': 1}\n"
     ]
    }
   ],
   "source": [
    "#python program for occurrence of each character in string\n",
    "def occurrence(s):\n",
    "    d={}\n",
    "    for i in s:\n",
    "        if i in d:\n",
    "            d[i]+=1\n",
    "        else:\n",
    "            d[i]=1\n",
    "    return d\n",
    "if __name__==\"__main__\":\n",
    "    s=input()\n",
    "    print(occurrence(s))"
   ]
  },
  {
   "cell_type": "code",
   "execution_count": 16,
   "metadata": {},
   "outputs": [
    {
     "name": "stdout",
     "output_type": "stream",
     "text": [
      "aravind\n",
      "r\n"
     ]
    }
   ],
   "source": [
    "#python program for first unique string\n",
    "def unique(s):\n",
    "    d={}\n",
    "    for i in range(len(s)):\n",
    "        if s[i] in d:\n",
    "            d[s[i]]+=1\n",
    "        else:\n",
    "            d[s[i]]=1\n",
    "    for i in range(len(s)):\n",
    "        if(d[s[i]]==1):\n",
    "            return s[i]\n",
    "    return -1\n",
    "if __name__==\"__main__\":\n",
    "    s=input()\n",
    "    print(unique(s))"
   ]
  },
  {
   "cell_type": "code",
   "execution_count": 19,
   "metadata": {},
   "outputs": [
    {
     "name": "stdout",
     "output_type": "stream",
     "text": [
      "3 4 5 6 7 3 4\n",
      "5\n"
     ]
    }
   ],
   "source": [
    "#python program for first unique number\n",
    "def uniquee(num):\n",
    "    d={}\n",
    "    for i in range(len(num)):\n",
    "        if num[i] in d:\n",
    "            d[num[i]]+=1\n",
    "        else:\n",
    "            d[num[i]]=1\n",
    "    for i in range(len(num)):\n",
    "        if(d[num[i]]==1):\n",
    "            return num[i]\n",
    "    return -1\n",
    "if __name__==\"__main__\":\n",
    "    num=list(map(int,input().split()))\n",
    "    print(uniquee(num))"
   ]
  },
  {
   "cell_type": "code",
   "execution_count": 20,
   "metadata": {},
   "outputs": [
    {
     "name": "stdout",
     "output_type": "stream",
     "text": [
      "5 2\n",
      "3 4 5 6 7\n",
      "5 6 7 3 4\n"
     ]
    }
   ],
   "source": [
    "#python program for array rotation\n",
    "def arrayrotate(arr,k,d):\n",
    "    new_arr=arr[d:]+arr[:d]\n",
    "    return new_arr\n",
    "if __name__==\"__main__\":\n",
    "    (k,d)=tuple(map(int,input().split()))\n",
    "    arr=list(map(int,input().split()))\n",
    "    result=arrayrotate(arr,k,d)\n",
    "    print(' '.join(map(str,result)))"
   ]
  },
  {
   "cell_type": "code",
   "execution_count": 34,
   "metadata": {},
   "outputs": [
    {
     "name": "stdout",
     "output_type": "stream",
     "text": [
      "aravind\n",
      "a\n",
      "rvind\n"
     ]
    }
   ],
   "source": [
    "#python program to remove specified character in string\n",
    "def removespecified(s,t):\n",
    "    s1=s.replace(t,'')\n",
    "    return s1\n",
    "if __name__==\"__main__\":\n",
    "    s=input()\n",
    "    t=input()\n",
    "    print(removespecified(s,t))"
   ]
  },
  {
   "cell_type": "code",
   "execution_count": 37,
   "metadata": {},
   "outputs": [
    {
     "name": "stdout",
     "output_type": "stream",
     "text": [
      "aravind\n",
      "(3, 4)\n"
     ]
    }
   ],
   "source": [
    "#python program to count no of vowels and consonants in string\n",
    "def vc(s1):\n",
    "    s1=s1.lower()\n",
    "    vowels=0\n",
    "    consonants=0\n",
    "    for i in s1:\n",
    "        if i=='a' or i=='e' or i=='i' or i=='o' or i=='u':\n",
    "            vowels+=1\n",
    "        else:\n",
    "            consonants+=1\n",
    "    return vowels,consonants\n",
    "if __name__==\"__main__\":\n",
    "    s1=input()\n",
    "    print(vc(s1))"
   ]
  },
  {
   "cell_type": "code",
   "execution_count": 25,
   "metadata": {},
   "outputs": [
    {
     "name": "stdout",
     "output_type": "stream",
     "text": [
      "4 5 6 7\n",
      "22\n"
     ]
    }
   ],
   "source": [
    "#python program for array sum\n",
    "def arraysum(arr):\n",
    "    result=0\n",
    "    for i in range(len(arr)):\n",
    "        result+=arr[i]\n",
    "    return result\n",
    "if __name__==\"__main__\":\n",
    "    arr=list(map(int,input().split()))\n",
    "    print(arraysum(arr))"
   ]
  },
  {
   "cell_type": "code",
   "execution_count": 32,
   "metadata": {},
   "outputs": [
    {
     "name": "stdout",
     "output_type": "stream",
     "text": [
      "aravind\n",
      "5\n",
      "aravid\n"
     ]
    }
   ],
   "source": [
    "#python program to remove nth index character from string\n",
    "def nindex(s,n):\n",
    "    first=s[:n]\n",
    "    last=s[n+1:]\n",
    "    return first+last\n",
    "if __name__==\"__main__\":\n",
    "    s=input()\n",
    "    n=int(input())\n",
    "    print(nindex(s,n))"
   ]
  },
  {
   "cell_type": "code",
   "execution_count": 40,
   "metadata": {},
   "outputs": [
    {
     "name": "stdout",
     "output_type": "stream",
     "text": [
      "aravind\n",
      "v\n",
      "element found\n"
     ]
    }
   ],
   "source": [
    "#python program for search element in list\n",
    "def search(n,ele):\n",
    "    flag=0\n",
    "    for i in range(len(n)):\n",
    "        if n[i]==ele:\n",
    "            print(\"element found\")\n",
    "            flag=1\n",
    "    if flag==0:\n",
    "        print(\"element not found\")\n",
    "if __name__==\"__main__\":\n",
    "    n=input()\n",
    "    ele=input()\n",
    "    search(n,ele)"
   ]
  },
  {
   "cell_type": "code",
   "execution_count": 44,
   "metadata": {},
   "outputs": [
    {
     "name": "stdout",
     "output_type": "stream",
     "text": [
      "4 5 7 1 2 9\n",
      "(1, 9)\n"
     ]
    }
   ],
   "source": [
    "#python program to find smallest and largest element in list\n",
    "def s(num):\n",
    "    num.sort()\n",
    "    return num[0],num[-1]\n",
    "if __name__==\"__main__\":\n",
    "    num=list(map(int,input().split()))\n",
    "    print(s(num))"
   ]
  },
  {
   "cell_type": "code",
   "execution_count": 48,
   "metadata": {},
   "outputs": [
    {
     "name": "stdout",
     "output_type": "stream",
     "text": [
      "reddy\n",
      "d \n"
     ]
    }
   ],
   "source": [
    "#python program to find duplicate characters in string\n",
    "def duplicatechar(s1):\n",
    "    d={}\n",
    "    for i in s1:\n",
    "        if i in d:\n",
    "            d[i]+=1\n",
    "        else:\n",
    "            d[i]=1\n",
    "    for k,v in d.items():\n",
    "        if v>1:\n",
    "            print(k,end=\" \")\n",
    "    print()\n",
    "if __name__==\"__main__\":\n",
    "    s1=input()\n",
    "    duplicatechar(s1)"
   ]
  },
  {
   "cell_type": "code",
   "execution_count": 54,
   "metadata": {},
   "outputs": [
    {
     "name": "stdout",
     "output_type": "stream",
     "text": [
      "aravind\n",
      "arvind\n"
     ]
    }
   ],
   "source": [
    "#python program to remove duplicate characters in string\n",
    "def duplicatee(s1):\n",
    "    t=''\n",
    "    for i in s1:\n",
    "        if i in t:\n",
    "            pass\n",
    "        else:\n",
    "            t+=i\n",
    "    return t\n",
    "if __name__==\"__main__\":\n",
    "    s1=input()\n",
    "    print(duplicatee(s1))"
   ]
  },
  {
   "cell_type": "code",
   "execution_count": 55,
   "metadata": {},
   "outputs": [
    {
     "name": "stdout",
     "output_type": "stream",
     "text": [
      "2001\n",
      "not a leap year\n"
     ]
    }
   ],
   "source": [
    "#python program for leap year or not\n",
    "def leapyear(num):\n",
    "    if num%4==0:\n",
    "        print(\"leap year\")\n",
    "    elif num%400==0:\n",
    "        print(\"leap year\")\n",
    "    else:\n",
    "        print(\"not a leap year\")\n",
    "if __name__==\"__main__\":\n",
    "    num=int(input())\n",
    "    leapyear(num)"
   ]
  },
  {
   "cell_type": "code",
   "execution_count": 58,
   "metadata": {},
   "outputs": [
    {
     "name": "stdout",
     "output_type": "stream",
     "text": [
      "4 6 8 43 -6 2\n",
      "(14, 63)\n"
     ]
    }
   ],
   "source": [
    "#python program for max-min sum in array\n",
    "def max_min(arr):\n",
    "    summ=0\n",
    "    for i in range(len(arr)):\n",
    "        summ+=arr[i]\n",
    "    return(summ-max(arr),summ-min(arr))\n",
    "if __name__==\"__main__\":\n",
    "    arr=list(map(int,input().split()))\n",
    "    print(max_min(arr))\n",
    "        "
   ]
  },
  {
   "cell_type": "code",
   "execution_count": 59,
   "metadata": {},
   "outputs": [
    {
     "name": "stdout",
     "output_type": "stream",
     "text": [
      "2 0 4 5 0 6 4\n",
      "[2, 4, 5, 6, 4, 0, 0]\n"
     ]
    }
   ],
   "source": [
    "#python program to move zeores to last\n",
    "def zeroes(num):\n",
    "    i=0\n",
    "    for j in range(len(num)):\n",
    "        if num[j]!=0:\n",
    "            num[i],num[j]=num[j],num[i]\n",
    "            i+=1\n",
    "    return num\n",
    "if __name__==\"__main__\":\n",
    "    num=list(map(int,input().split()))\n",
    "    print(zeroes(num))"
   ]
  },
  {
   "cell_type": "code",
   "execution_count": 60,
   "metadata": {},
   "outputs": [
    {
     "name": "stdout",
     "output_type": "stream",
     "text": [
      "4 5 6 \n",
      "3 4 5\n",
      "(3, 0)\n"
     ]
    }
   ],
   "source": [
    "#python program to compare the triplets\n",
    "def triplets(a,b):\n",
    "    alice=0\n",
    "    bob=0\n",
    "    if a[0]>b[0]:\n",
    "        alice+=1\n",
    "    elif a[0]<b[0]:\n",
    "        bob+=1\n",
    "    if a[1]>b[1]:\n",
    "        alice+=1\n",
    "    elif a[1]<b[1]:\n",
    "        bob+=1\n",
    "    if a[2]>b[2]:\n",
    "        alice+=1\n",
    "    elif a[2]<b[2]:\n",
    "        bob+=1\n",
    "    return alice,bob\n",
    "if __name__==\"__main__\":\n",
    "    a=list(map(int,input().split()))\n",
    "    b=list(map(int,input().split()))\n",
    "    print(triplets(a,b))"
   ]
  },
  {
   "cell_type": "code",
   "execution_count": 61,
   "metadata": {},
   "outputs": [
    {
     "name": "stdout",
     "output_type": "stream",
     "text": [
      "5 6 6 7 8 3 2\n",
      "[5, 6, 7, 8, 3, 2]\n"
     ]
    }
   ],
   "source": [
    "#python porgram to remove duplicate numbers in array\n",
    "def dn(num):\n",
    "    r=[]\n",
    "    for i in num:\n",
    "        if i not in r:\n",
    "            r.append(i)\n",
    "    return r\n",
    "if __name__==\"__main__\":\n",
    "    num=list(map(int,input().split()))\n",
    "    print(dn(num))"
   ]
  },
  {
   "cell_type": "code",
   "execution_count": 62,
   "metadata": {},
   "outputs": [
    {
     "name": "stdout",
     "output_type": "stream",
     "text": [
      "aravind\n",
      "dnivara\n"
     ]
    }
   ],
   "source": [
    "#python program for reverse order of words\n",
    "def reverse(n1):\n",
    "    n=n1[::-1]\n",
    "    return n\n",
    "if __name__==\"__main__\":\n",
    "    n1=input()\n",
    "    print(reverse(n1))"
   ]
  },
  {
   "cell_type": "code",
   "execution_count": 66,
   "metadata": {},
   "outputs": [
    {
     "name": "stdout",
     "output_type": "stream",
     "text": [
      "aravind\n",
      "aarvind\n"
     ]
    }
   ],
   "source": [
    "#python program to sort the characters by frequency wise\n",
    "def frequency(s1):\n",
    "    d={}\n",
    "    result=''\n",
    "    for i in s1:\n",
    "        if i in d:\n",
    "            d[i]+=1\n",
    "        else:\n",
    "            d[i]=1\n",
    "    s=sorted(d,key=lambda j:d[j],reverse=True)\n",
    "    for char in s:\n",
    "        result+=char*d[char]\n",
    "    return result\n",
    "if __name__==\"__main__\":\n",
    "    s1=input()\n",
    "    print(frequency(s1))"
   ]
  },
  {
   "cell_type": "code",
   "execution_count": 67,
   "metadata": {},
   "outputs": [
    {
     "name": "stdout",
     "output_type": "stream",
     "text": [
      "abbcabde\n",
      "5\n"
     ]
    }
   ],
   "source": [
    "#python program for longest substring without repeationg characters\n",
    "def longest(s):\n",
    "    max_length=0\n",
    "    start=0\n",
    "    dict={}\n",
    "    for i in range(len(s)):\n",
    "        if s[i] in dict and start<=dict[s[i]]:\n",
    "            start+=dict[s[i]]\n",
    "        else:\n",
    "            max_length=max(max_length,i-start+1)\n",
    "        dict[s[i]]=i\n",
    "    return max_length\n",
    "if __name__==\"__main__\":\n",
    "    s=input()\n",
    "    print(longest(s))"
   ]
  },
  {
   "cell_type": "code",
   "execution_count": 68,
   "metadata": {},
   "outputs": [
    {
     "name": "stdout",
     "output_type": "stream",
     "text": [
      "Enter the stringaravind\n",
      "characters at Even position aaid\n",
      "characters at odd position rvn\n"
     ]
    }
   ],
   "source": [
    "#python program to print the characters at odd positon and evenposition for given string\n",
    "s=input(\"Enter the string\")\n",
    "print(\"characters at Even position\",s[0::2])\n",
    "print(\"characters at odd position\",s[1::2])"
   ]
  },
  {
   "cell_type": "code",
   "execution_count": 70,
   "metadata": {},
   "outputs": [
    {
     "name": "stdout",
     "output_type": "stream",
     "text": [
      "Enter the stringaecf33sdff34\n",
      "acdefffs3334\n"
     ]
    }
   ],
   "source": [
    "#python program ot sort the characters of string and first alpphabet symbols followed by numeric values\n",
    "s=input(\"Enter the string\")\n",
    "s1=''\n",
    "s2=''\n",
    "output=''\n",
    "for x in s:\n",
    "    if x.isalpha():\n",
    "        s1=s1+x\n",
    "    else:\n",
    "        s2=s2+x\n",
    "for x in sorted(s1):\n",
    "    output=output+x\n",
    "for x in sorted(s2):\n",
    "    output=output+x\n",
    "print(output)"
   ]
  },
  {
   "cell_type": "code",
   "execution_count": 72,
   "metadata": {},
   "outputs": [
    {
     "name": "stdout",
     "output_type": "stream",
     "text": [
      "Enter the string:a4b3c2\n",
      "aaaabbbcc\n"
     ]
    }
   ],
   "source": [
    "#i/p:a4b3c2\n",
    "#o/p:aaaabbbcc\n",
    "s=input(\"Enter the string:\")\n",
    "output=''\n",
    "for x in s:\n",
    "    if x.isalpha():\n",
    "        output=output+x\n",
    "        previous=x\n",
    "    else:\n",
    "        output=output+previous*(int(x)-1)\n",
    "print(output)"
   ]
  },
  {
   "cell_type": "code",
   "execution_count": 75,
   "metadata": {},
   "outputs": [
    {
     "name": "stdout",
     "output_type": "stream",
     "text": [
      "Enter the string:a3v4g4\n",
      "advzgk\n"
     ]
    }
   ],
   "source": [
    "#i/p:a4k3b2\n",
    "#o/p:aeknbd\n",
    "s=input(\"Enter the string:\")\n",
    "output=''\n",
    "for x in s:\n",
    "    if x.isalpha():\n",
    "        output=output+x\n",
    "        previous=x\n",
    "    else:\n",
    "        output=output+chr(ord(previous)+int(x))\n",
    "print(output)"
   ]
  },
  {
   "cell_type": "code",
   "execution_count": 76,
   "metadata": {},
   "outputs": [
    {
     "name": "stdout",
     "output_type": "stream",
     "text": [
      "Enter the wordaravind\n",
      "['a', 'i']\n",
      "2\n"
     ]
    }
   ],
   "source": [
    "#python program to display vowels present in the list\n",
    "vowels=['a','e','i','o','u']\n",
    "word=input(\"Enter the word\")\n",
    "found=[]\n",
    "for letter in word:\n",
    "    if letter in vowels:\n",
    "        if letter not in found:\n",
    "            found.append(letter)\n",
    "print(found)\n",
    "print(len(found))"
   ]
  },
  {
   "cell_type": "code",
   "execution_count": 79,
   "metadata": {},
   "outputs": [
    {
     "name": "stdout",
     "output_type": "stream",
     "text": [
      "Enter the wordaravindreddy\n",
      "['r', 'v', 'n', 'd', 'y']\n",
      "5\n"
     ]
    }
   ],
   "source": [
    "#python program to display non-vowels present in list\n",
    "vowels=['a','e','i','o','u']\n",
    "word=input(\"Enter the word\")\n",
    "found=[]\n",
    "for letter in word:\n",
    "    if letter not in vowels:\n",
    "        if letter not in found:\n",
    "            found.append(letter)\n",
    "print(found)\n",
    "print(len(found))"
   ]
  },
  {
   "cell_type": "code",
   "execution_count": 87,
   "metadata": {},
   "outputs": [
    {
     "name": "stdout",
     "output_type": "stream",
     "text": [
      "2\n",
      "{}{}\n",
      "Yes\n",
      "{}]]\n",
      "no\n"
     ]
    }
   ],
   "source": [
    "#python program for check for balanced paranthesis\n",
    "import sys\n",
    "def balanced(s):\n",
    "    stack=[]\n",
    "    for letter in s:\n",
    "        if letter=='[':\n",
    "            stack.append(1)\n",
    "        elif letter=='(':\n",
    "            stack.append(2)\n",
    "        elif letter=='{':\n",
    "            stack.append(3)\n",
    "        elif letter==']':\n",
    "            if len(stack)==0:\n",
    "                return False\n",
    "            if stack.pop()!=1:\n",
    "                return False\n",
    "        elif letter==')':\n",
    "            if len(stack)==0:\n",
    "                return False\n",
    "            if stack.pop()!=2:\n",
    "                return False\n",
    "        elif letter=='}':\n",
    "            if len(stack)==0:\n",
    "                return False\n",
    "            if stack.pop()!=3:\n",
    "                return False\n",
    "    return len(stack)==0\n",
    "if __name__==\"__main__\":\n",
    "    t=int(input().strip())\n",
    "    for a in range(t):\n",
    "        s=input().strip()\n",
    "        result=balanced(s)\n",
    "        if result is True:\n",
    "            print(\"Yes\")\n",
    "        else:\n",
    "            print(\"no\")\n",
    "            "
   ]
  },
  {
   "cell_type": "code",
   "execution_count": null,
   "metadata": {},
   "outputs": [],
   "source": []
  }
 ],
 "metadata": {
  "kernelspec": {
   "display_name": "Python 3",
   "language": "python",
   "name": "python3"
  },
  "language_info": {
   "codemirror_mode": {
    "name": "ipython",
    "version": 3
   },
   "file_extension": ".py",
   "mimetype": "text/x-python",
   "name": "python",
   "nbconvert_exporter": "python",
   "pygments_lexer": "ipython3",
   "version": "3.7.3"
  }
 },
 "nbformat": 4,
 "nbformat_minor": 2
}
